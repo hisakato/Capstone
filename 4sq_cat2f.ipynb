{
 "cells": [
  {
   "cell_type": "code",
   "execution_count": 1,
   "metadata": {},
   "outputs": [],
   "source": [
    "import numpy as np\n",
    "import pandas as pd\n",
    "import json\n",
    "import requests # library to handle requests"
   ]
  },
  {
   "cell_type": "code",
   "execution_count": 2,
   "metadata": {},
   "outputs": [],
   "source": [
    "# Replace Foursquare ID and secret key with yours\n",
    "# --- replaced them with dummy strings before uploading to GitHub\n",
    "CLIENT_ID = 'YOUR_CLIENT_ID' # \n",
    "CLIENT_SECRET = 'YOUR_CLIENT_SECRET' # \n",
    "VERSION = '20180605' # Foursquare API version"
   ]
  },
  {
   "cell_type": "code",
   "execution_count": 3,
   "metadata": {},
   "outputs": [
    {
     "data": {
      "text/plain": [
       "'https://api.foursquare.com/v2/venues/categories?&client_id=YOUR_CLIENT_ID&client_secret=YOUR_CLIENT_SECRET&v=20180605'"
      ]
     },
     "execution_count": 3,
     "metadata": {},
     "output_type": "execute_result"
    }
   ],
   "source": [
    "# create URL venue categories\n",
    "url = 'https://api.foursquare.com/v2/venues/categories?&client_id={}&client_secret={}&v={}'.format(\n",
    "    CLIENT_ID, \n",
    "    CLIENT_SECRET, \n",
    "    VERSION)\n",
    "url # display URL"
   ]
  },
  {
   "cell_type": "code",
   "execution_count": null,
   "metadata": {},
   "outputs": [],
   "source": [
    "results = requests.get(url).json()\n",
    "#results"
   ]
  },
  {
   "cell_type": "code",
   "execution_count": null,
   "metadata": {},
   "outputs": [],
   "source": [
    "# Create a data frame for all the categories.\n",
    "# There are five category levels, which we found in the previous exploration.\n",
    "df_cat1 = pd.DataFrame(columns=['Level', 'Cat1', 'Cat2', 'Cat3', 'Cat4', 'Cat5'])"
   ]
  },
  {
   "cell_type": "code",
   "execution_count": null,
   "metadata": {},
   "outputs": [],
   "source": [
    "# Populate the data frame.\n",
    "for ix1, js1 in enumerate(results['response']['categories']):\n",
    "    df_cat1 = df_cat1.append(\n",
    "        pd.Series([1,js1['name'],'','','',''],\n",
    "                  index=['Level', 'Cat1', 'Cat2', 'Cat3', 'Cat4', 'Cat5']\n",
    "                 ),ignore_index=True)\n",
    "    for ix2, js2 in enumerate(js1['categories']):\n",
    "        df_cat1 = df_cat1.append(\n",
    "            pd.Series([2,js1['name'],js2['name'],'','',''],\n",
    "                      index=['Level', 'Cat1', 'Cat2', 'Cat3', 'Cat4', 'Cat5']\n",
    "                     ),ignore_index=True)\n",
    "        for ix3, js3 in enumerate(js2['categories']):\n",
    "            df_cat1 = df_cat1.append(\n",
    "                pd.Series([3,js1['name'],js2['name'],js3['name'],'',''],\n",
    "                      index=['Level', 'Cat1', 'Cat2', 'Cat3', 'Cat4', 'Cat5']\n",
    "                     ),ignore_index=True)\n",
    "            for ix4, js4 in enumerate(js3['categories']):\n",
    "                df_cat1 = df_cat1.append(\n",
    "                    pd.Series([4,js1['name'],js2['name'],js3['name'],js4['name'],''],\n",
    "                      index=['Level', 'Cat1', 'Cat2', 'Cat3', 'Cat4', 'Cat5']\n",
    "                     ),ignore_index=True)\n",
    "                for ix5, js5 in enumerate(js4['categories']):\n",
    "                    df_cat1 = df_cat1.append(\n",
    "                        pd.Series([5,js1['name'],js2['name'],js3['name'],js4['name'],js5['name']],\n",
    "                          index=['Level', 'Cat1', 'Cat2', 'Cat3', 'Cat4', 'Cat5']\n",
    "                         ),ignore_index=True)"
   ]
  },
  {
   "cell_type": "code",
   "execution_count": null,
   "metadata": {},
   "outputs": [],
   "source": [
    "#Print level 5 category names\n",
    "df_cat1[df_cat1['Level']==5]\n",
    "#df_cat1\n",
    "#df_cat1[df_cat1['Level']==5].count() # Level 5: Brazilian 13\n",
    "#df_cat1[df_cat1['Level']==4].count() # Level 4: Chinese, Japanese, ... 91"
   ]
  },
  {
   "cell_type": "code",
   "execution_count": null,
   "metadata": {},
   "outputs": [],
   "source": [
    "# Print the total number of distinct categories\n",
    "df_cat1.shape[0]"
   ]
  },
  {
   "cell_type": "code",
   "execution_count": null,
   "metadata": {},
   "outputs": [],
   "source": [
    "# Print the number of categories for each level\n",
    "for i in range(5):\n",
    "    print (\"Level {}: {:3d}\".format(\n",
    "        str(i+1), df_cat1[df_cat1['Level']==(i+1)]['Level'].count()))"
   ]
  }
 ],
 "metadata": {
  "kernelspec": {
   "display_name": "Python 3",
   "language": "python",
   "name": "python3"
  },
  "language_info": {
   "codemirror_mode": {
    "name": "ipython",
    "version": 3
   },
   "file_extension": ".py",
   "mimetype": "text/x-python",
   "name": "python",
   "nbconvert_exporter": "python",
   "pygments_lexer": "ipython3",
   "version": "3.6.8"
  }
 },
 "nbformat": 4,
 "nbformat_minor": 2
}
