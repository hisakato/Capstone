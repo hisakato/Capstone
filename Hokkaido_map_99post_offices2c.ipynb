{
 "cells": [
  {
   "cell_type": "raw",
   "metadata": {},
   "source": [
    "Casual Trip Planner: Exploring Venues around Post Offices with Web APIs: Hokkaido, Japan.\n",
    "Coursera - IBM: Applied Data Science Capstone Project\n",
    "May 6, 2019\n",
    "Hisato Kato (aobathree@gmail.com)\n",
    "\n",
    "Data to be used.\n",
    "Source: Japan Geographic Data Center\n",
    "99 post office location data in Hokkaido, Japan\n",
    "http://www.kokudo.or.jp/database/005.html"
   ]
  },
  {
   "cell_type": "code",
   "execution_count": null,
   "metadata": {},
   "outputs": [],
   "source": [
    "import pandas as pd\n",
    "import numpy as np\n",
    "pd.set_option('display.max_columns', None)\n",
    "pd.set_option('display.max_rows', None)"
   ]
  },
  {
   "cell_type": "code",
   "execution_count": null,
   "metadata": {},
   "outputs": [],
   "source": [
    "# Read 99 post office CSV data (translated into English and extracted just columns of interest)\n",
    "dfpo2 = pd.read_csv('2019-01_post-office-Hokkaido1e.csv',\n",
    "    dtype={'po_code':str,'po_name':str,'longitude':np.float64,'latitude':np.float64})\n",
    "dfpo2.head(15)"
   ]
  },
  {
   "cell_type": "code",
   "execution_count": null,
   "metadata": {},
   "outputs": [],
   "source": [
    "# Calculate the epicenter of 99 locations\n",
    "longitude,latitude = dfpo2[['longitude','latitude']].mean().tolist()"
   ]
  },
  {
   "cell_type": "code",
   "execution_count": null,
   "metadata": {},
   "outputs": [],
   "source": [
    "# Display a Hokkaido map\n",
    "#!conda install -c conda-forge folium=0.5.0 --yes # uncomment this line if you haven't completed the Foursquare API lab\n",
    "import folium # map rendering library\n",
    "\n",
    "#Display an initial map\n",
    "map3 = folium.Map(location=[latitude, longitude], zoom_start=7)\n",
    "map3"
   ]
  },
  {
   "cell_type": "code",
   "execution_count": null,
   "metadata": {},
   "outputs": [],
   "source": [
    "# Display 99 post office locations on the map\n",
    "for lat, lon, po_code in zip(dfpo2['latitude'],dfpo2['longitude'],dfpo2['po_code']):\n",
    "    folium.CircleMarker(\n",
    "        [lat, lon],\n",
    "        radius=5,\n",
    "        popup=po_code,\n",
    "        color='yellow',\n",
    "        fill=True,\n",
    "        fill_color='blue',\n",
    "        fill_opacity=0.7).add_to(map3)\n",
    "map3"
   ]
  }
 ],
 "metadata": {
  "kernelspec": {
   "display_name": "Python 3",
   "language": "python",
   "name": "python3"
  },
  "language_info": {
   "codemirror_mode": {
    "name": "ipython",
    "version": 3
   },
   "file_extension": ".py",
   "mimetype": "text/x-python",
   "name": "python",
   "nbconvert_exporter": "python",
   "pygments_lexer": "ipython3",
   "version": "3.6.8"
  }
 },
 "nbformat": 4,
 "nbformat_minor": 2
}
