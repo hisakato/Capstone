{
 "cells": [
  {
   "cell_type": "raw",
   "metadata": {},
   "source": [
    "Casual Travel Planner: Exploring Venues around Post Offices with Web APIs: Hokkaido, Japan.\n",
    " Coursera: IBM Data Science Professional Certificate: Capstone Project\n",
    "July 29, 2019\n",
    "Hisato Kato\n",
    "\n",
    "Data to be used.\n",
    " Source: Japan Geographic Data Center\n",
    " http://www.kokudo.or.jp/database/005.html\n",
    " 99 post office location in Hokkaido, Japan\n",
    " translated into English and tranformed into CSV formant: '2019-07_post-office-Hokkaido1e.csv'"
   ]
  },
  {
   "cell_type": "code",
   "execution_count": null,
   "metadata": {},
   "outputs": [],
   "source": [
    "import pandas as pd\n",
    "import numpy as np\n",
    "pd.set_option('display.max_columns', None)\n",
    "pd.set_option('display.max_rows', None)"
   ]
  },
  {
   "cell_type": "code",
   "execution_count": null,
   "metadata": {},
   "outputs": [],
   "source": [
    "# Read 99 post office CSV data (translated into English and extracted just columns of interest)\n",
    "dfpo2 = pd.read_csv('2019-07_post-office-Hokkaido1e.csv',\n",
    "    dtype={'po_code':str,'po_name':str,'longitude':np.float64,'latitude':np.float64})\n",
    "dfpo2.head(15)"
   ]
  },
  {
   "cell_type": "code",
   "execution_count": null,
   "metadata": {},
   "outputs": [],
   "source": [
    "# Calculate the epicenter of 99 locations\n",
    "epi_longitude,epi_latitude = dfpo2[['longitude','latitude']].mean().tolist()"
   ]
  },
  {
   "cell_type": "code",
   "execution_count": null,
   "metadata": {},
   "outputs": [],
   "source": [
    "# Display a Hokkaido map\n",
    "#!conda install -c conda-forge folium=0.5.0 --yes # uncomment this line if you don't have Forium module\n",
    "import folium # map rendering library\n",
    "\n",
    "#Display an initial map\n",
    "map3 = folium.Map(location=[epi_latitude, epi_longitude], zoom_start=7)\n",
    "map3"
   ]
  },
  {
   "cell_type": "code",
   "execution_count": null,
   "metadata": {},
   "outputs": [],
   "source": [
    "# Display 99 post office locations on the map\n",
    "for lat, lon, po_name in zip(dfpo2['latitude'],dfpo2['longitude'],dfpo2['po_name']):\n",
    "    folium.CircleMarker(\n",
    "        [lat, lon],\n",
    "        radius=5,\n",
    "        popup=po_name,\n",
    "        color='yellow',\n",
    "        fill=True,\n",
    "        fill_color='blue',\n",
    "        fill_opacity=0.7).add_to(map3)\n",
    "map3"
   ]
  },
  {
   "cell_type": "raw",
   "metadata": {},
   "source": [
    "Narrow down the candidate places to visit\n",
    " not-so-popular = might be interesting to me"
   ]
  },
  {
   "cell_type": "code",
   "execution_count": null,
   "metadata": {},
   "outputs": [],
   "source": [
    "import operator"
   ]
  },
  {
   "cell_type": "code",
   "execution_count": null,
   "metadata": {},
   "outputs": [],
   "source": [
    "# create a data frame excluding those with \"Sapporo\" in post office name\n",
    "dfpo4 = dfpo2[\n",
    "    dfpo2['po_name'].apply(str.__contains__, str, ['Sapporo']).apply(operator.__not__)\n",
    "]\n",
    "dfpo4.head()"
   ]
  },
  {
   "cell_type": "code",
   "execution_count": null,
   "metadata": {},
   "outputs": [],
   "source": [
    "# then, excluding those with \"Otaru\"\n",
    "dfpo5 = dfpo4[\n",
    "    dfpo4['po_name'].apply(str.__contains__, str, ['Otaru']).apply(operator.__not__)\n",
    "]\n",
    "dfpo5.head()"
   ]
  },
  {
   "cell_type": "code",
   "execution_count": null,
   "metadata": {},
   "outputs": [],
   "source": [
    "# then, excluding those with \"Yoichi\"\n",
    "dfpo6 = dfpo5[\n",
    "    dfpo5['po_name'].apply(str.__contains__, str, ['Yoichi']).apply(operator.__not__)\n",
    "]\n",
    "dfpo6.head()"
   ]
  },
  {
   "cell_type": "code",
   "execution_count": null,
   "metadata": {},
   "outputs": [],
   "source": [
    "# then, excluding those with \"Muroran\"\n",
    "dfpo7 = dfpo6[\n",
    "    dfpo6['po_name'].apply(str.__contains__, str, ['Muroran']).apply(operator.__not__)\n",
    "]\n",
    "dfpo7.head()"
   ]
  },
  {
   "cell_type": "code",
   "execution_count": null,
   "metadata": {},
   "outputs": [],
   "source": [
    "# then, excluding those with \"Tomakomai\"\n",
    "dfpo8 = dfpo7[\n",
    "    dfpo7['po_name'].apply(str.__contains__, str, ['Tomakomai']).apply(operator.__not__)\n",
    "]\n",
    "dfpo8.head(15)"
   ]
  },
  {
   "cell_type": "code",
   "execution_count": null,
   "metadata": {},
   "outputs": [],
   "source": [
    "# Let's see the number of post offices left.\n",
    "dfpo8.shape[0]"
   ]
  },
  {
   "cell_type": "raw",
   "metadata": {},
   "source": [
    "Trending venues"
   ]
  },
  {
   "cell_type": "code",
   "execution_count": null,
   "metadata": {},
   "outputs": [],
   "source": [
    "import requests # library to handle requests"
   ]
  },
  {
   "cell_type": "code",
   "execution_count": null,
   "metadata": {},
   "outputs": [],
   "source": [
    "# Replace Foursquare ID and secret key with yours\n",
    "# --- replaced by dummy strings before uploading to GitHub\n",
    "CLIENT_ID = 'YOUR_CLIENT_ID' # \n",
    "CLIENT_SECRET = 'YOUR CLIENT_SECRET' # \n",
    "VERSION = '20180605' # Foursquare API version"
   ]
  },
  {
   "cell_type": "code",
   "execution_count": null,
   "metadata": {},
   "outputs": [],
   "source": [
    "# Trending places around 78 not-so-popular places\n",
    "# It may take long if radius and LIMIT are large.\n",
    "# Sometimes throws an KeyError exception:\n",
    "#   because of malformed response\n",
    "#   due to intermittent network errors or errors at the data source.\n",
    "# Retrying usually works.\n",
    "\n",
    "LIMIT = 100 # limit of number of venues returned by Foursquare API (max: 100)\n",
    "radius = 1000 # define radius (max: 2000 = 2km)\n",
    "# create URL trending venues\n",
    "for index, row in dfpo8.iterrows():\n",
    "    url = 'https://api.foursquare.com/v2/venues/trending?&client_id={}&client_secret={}&v={}&ll={},{}&radius={}&limit={}'.format(\n",
    "        CLIENT_ID, CLIENT_SECRET, VERSION, row['latitude'], row['longitude'], radius, LIMIT)\n",
    "    results = requests.get(url).json()\n",
    "    #List up trend venues\n",
    "    for ix, trend_venues in enumerate(results['response']['venues']):\n",
    "        print (row['po_name'], \":\", trend_venues['name'], \":\", trend_venues['categories'][0]['name'])"
   ]
  },
  {
   "cell_type": "raw",
   "metadata": {},
   "source": [
    "Hmm ... Just an airport ... The Foursquare Trending Venues endpoint doesn't seem to be very useful for  Hokkaido, Japan. But it's OK for me. I'm interested in not-so-popular places."
   ]
  },
  {
   "cell_type": "code",
   "execution_count": null,
   "metadata": {},
   "outputs": [],
   "source": [
    "# Print out 4 east-end locations.\n",
    "dfpo8.sort_values(['longitude'],ascending=False).head(4)"
   ]
  },
  {
   "cell_type": "code",
   "execution_count": null,
   "metadata": {},
   "outputs": [],
   "source": [
    "# Print out 2 west-end locations.\n",
    "dfpo8.sort_values(['longitude']).head(2)"
   ]
  },
  {
   "cell_type": "code",
   "execution_count": null,
   "metadata": {},
   "outputs": [],
   "source": [
    "# Print out 2 north-end locations.\n",
    "dfpo8.sort_values(['latitude'],ascending=False).head(2)"
   ]
  },
  {
   "cell_type": "raw",
   "metadata": {},
   "source": [
    "Clicking on a blue marker on the map, you get the corresponding post office names."
   ]
  },
  {
   "cell_type": "code",
   "execution_count": null,
   "metadata": {},
   "outputs": [],
   "source": [
    "# Display 78 post office locations on the map\n",
    "epi_longitude,epi_latitude = dfpo8[['longitude','latitude']].mean().tolist()\n",
    "map4 = folium.Map(location=[epi_latitude, epi_longitude], zoom_start=7)\n",
    "for lat, lon, po_name in zip(dfpo8['latitude'],dfpo8['longitude'],dfpo8['po_name']):\n",
    "    folium.CircleMarker(\n",
    "        [lat, lon],\n",
    "        radius=5,\n",
    "        popup=po_name,\n",
    "        color='yellow',\n",
    "        fill=True,\n",
    "        fill_color='blue',\n",
    "        fill_opacity=0.7).add_to(map4)\n",
    "map4"
   ]
  },
  {
   "cell_type": "raw",
   "metadata": {},
   "source": [
    "Picked up the following places.\n",
    " - Western, inland places with interesting names: Nakoma, Konbu\n",
    " - Mid-south-east, inland places with interesting names: Niwan, Biratori"
   ]
  },
  {
   "cell_type": "code",
   "execution_count": null,
   "metadata": {},
   "outputs": [],
   "source": [
    "# Define a method to calculate the distance between 2 places, based on their latitudes and longitudes.\n",
    "from math import sin, cos, sqrt, atan2, radians\n",
    "\n",
    "# approximate radius of earth in km\n",
    "def dist_lat_long(latd1, lond1, latd2, lond2):\n",
    "    # unit for latitude/longitude: degrees\n",
    "    R = 6373.0\n",
    "    # convert to radian\n",
    "    latr1 = radians(latd1)\n",
    "    lonr1 = radians(lond1)\n",
    "    latr2 = radians(latd2)\n",
    "    lonr2 = radians(lond2)\n",
    "    dlonr = lonr2 - lonr1\n",
    "    dlatr = latr2 - latr1\n",
    "\n",
    "    a = sin(dlatr/2)**2 + cos(latr1) * cos(latr2) * sin(dlonr/2)**2\n",
    "    c = 2 * atan2(sqrt(a), sqrt(1 - a))\n",
    "\n",
    "    return R*c"
   ]
  },
  {
   "cell_type": "code",
   "execution_count": null,
   "metadata": {},
   "outputs": [],
   "source": [
    "# Calculate the distance #1: \n",
    "dest1 = 'Hidaka Meguro'\n",
    "origin1 = 'Erimo Misaki'\n",
    "lond1, latd1 = dfpo8[dfpo8['po_name']==dest1][['longitude','latitude']].values[0].tolist()\n",
    "# print (lond1, latd1) \n",
    "lond2, latd2 = dfpo8[dfpo8['po_name']==origin1][['longitude','latitude']].values[0].tolist()\n",
    "print(\"Distance from {} to {}: {:.1f} km\".format(\n",
    "    origin1, dest1, dist_lat_long(latd1, lond1, latd2, lond2)))"
   ]
  },
  {
   "cell_type": "code",
   "execution_count": null,
   "metadata": {},
   "outputs": [],
   "source": [
    "places_to_visit = ['Horo','Hamamasu','Hidaka Meguro','Shoya','Erimo Misaki','Erimo','Shimamaki',\n",
    "                  'Honme','Niwan','Biratori','Nakoma','Konbu']"
   ]
  },
  {
   "cell_type": "code",
   "execution_count": null,
   "metadata": {},
   "outputs": [],
   "source": [
    "# Calculate the distanace #2: Nakoma from Major post offices\n",
    "dest = 'Nakoma'\n",
    "dfNakoma = dfpo8[dfpo8['po_name']==dest][['latitude','longitude']]"
   ]
  },
  {
   "cell_type": "code",
   "execution_count": null,
   "metadata": {},
   "outputs": [],
   "source": [
    "dfNakoma.values[0].tolist()"
   ]
  },
  {
   "cell_type": "code",
   "execution_count": null,
   "metadata": {},
   "outputs": [],
   "source": [
    "major_po = ['Sapporo Chuo', 'Otaru', 'Muroran', 'Tomakomai']\n",
    "dfmpo = dfpo2[dfpo2['po_name'].isin(major_po)]"
   ]
  },
  {
   "cell_type": "code",
   "execution_count": null,
   "metadata": {},
   "outputs": [],
   "source": [
    "dfmpo[['latitude','longitude']].values"
   ]
  },
  {
   "cell_type": "code",
   "execution_count": null,
   "metadata": {},
   "outputs": [],
   "source": [
    "# Wrapper: array-based distance calculator\n",
    "def dist_lat_long1(X1):\n",
    "    # parameters as arrays\n",
    "    # uses dfNakoma data frame defined outside\n",
    "    latN, lonN = dfNakoma.values[0].tolist()\n",
    "    return dist_lat_long(X1[0], X1[1], latN, lonN)"
   ]
  },
  {
   "cell_type": "code",
   "execution_count": null,
   "metadata": {},
   "outputs": [],
   "source": [
    "df_dist_mpo = dfmpo[['latitude','longitude']].apply(dist_lat_long1, axis=1, result_type='expand')\n",
    "df_dist_mpo"
   ]
  },
  {
   "cell_type": "code",
   "execution_count": null,
   "metadata": {},
   "outputs": [],
   "source": [
    "dfmpo2 = dfmpo.copy()\n",
    "dfmpo2['dist']=df_dist_mpo\n",
    "dfmpo2"
   ]
  },
  {
   "cell_type": "raw",
   "metadata": {},
   "source": [
    "Neighborhood venues"
   ]
  },
  {
   "cell_type": "code",
   "execution_count": null,
   "metadata": {},
   "outputs": [],
   "source": [
    "df_ptv = dfpo2[dfpo2['po_name'].isin(places_to_visit)]\n",
    "df_ptv"
   ]
  },
  {
   "cell_type": "code",
   "execution_count": null,
   "metadata": {},
   "outputs": [],
   "source": [
    "df_nearby1 = pd.DataFrame(columns=['Post Office','Venue','Category'])"
   ]
  },
  {
   "cell_type": "code",
   "execution_count": null,
   "metadata": {},
   "outputs": [],
   "source": [
    "LIMIT = 100 # limit of number of venues returned by Foursquare API\n",
    "radius = 2000 # define radius (max: 2000 = 2km)\n",
    "for index, row in df_ptv.iterrows(): # places_to_visit\n",
    "    url = 'https://api.foursquare.com/v2/venues/explore?&client_id={}&client_secret={}&v={}&ll={},{}&radius={}&limit={}'.format(\n",
    "        CLIENT_ID, CLIENT_SECRET, VERSION, row['latitude'], row['longitude'], radius, LIMIT)\n",
    "    results = requests.get(url).json()\n",
    "    for ix1, item in enumerate(results['response']['groups'][0]['items']):\n",
    "        df_nearby1 = df_nearby1.append(\n",
    "            pd.Series(\n",
    "                [row['po_name'],item['venue']['name'],item['venue']['categories'][0]['name']],\n",
    "                index=['Post Office','Venue','Category']\n",
    "            ), ignore_index=True\n",
    "        )"
   ]
  },
  {
   "cell_type": "code",
   "execution_count": null,
   "metadata": {},
   "outputs": [],
   "source": [
    "# Print the number of nearby locations around 2km radius of places to visit in Hokkaido.\n",
    "df_nearby1.shape[0]"
   ]
  },
  {
   "cell_type": "code",
   "execution_count": null,
   "metadata": {},
   "outputs": [],
   "source": [
    "df_nearby1"
   ]
  },
  {
   "cell_type": "code",
   "execution_count": null,
   "metadata": {},
   "outputs": [],
   "source": [
    "# Sort by the number of neighborhood venues\n",
    "#    create a data frame: the number of venues for each post office\n",
    "df_nearby3 = df_nearby1.groupby(['Post Office'])['Venue'].count().reset_index()\n",
    "df_nearby3.sort_values(['Venue'],ascending=False)"
   ]
  },
  {
   "cell_type": "code",
   "execution_count": null,
   "metadata": {},
   "outputs": [],
   "source": [
    "# Looking into Foursquare venue categories\n",
    "import json"
   ]
  },
  {
   "cell_type": "code",
   "execution_count": null,
   "metadata": {},
   "outputs": [],
   "source": [
    "# create URL venue categories\n",
    "url = 'https://api.foursquare.com/v2/venues/categories?&client_id={}&client_secret={}&v={}'.format(\n",
    "    CLIENT_ID, \n",
    "    CLIENT_SECRET, \n",
    "    VERSION)\n",
    "url # display URL"
   ]
  },
  {
   "cell_type": "code",
   "execution_count": null,
   "metadata": {},
   "outputs": [],
   "source": [
    "results = requests.get(url).json()"
   ]
  },
  {
   "cell_type": "code",
   "execution_count": null,
   "metadata": {},
   "outputs": [],
   "source": [
    "# Create a data frame for all the categories.\n",
    "# Tried out the following code with increasing number of levels and found out there are five category levels.\n",
    "# Only the final result is included here.\n",
    "df_cat1 = pd.DataFrame(columns=['Level', 'Cat1', 'Cat2', 'Cat3', 'Cat4', 'Cat5'])\n",
    "\n",
    "# Populate the data frame.\n",
    "for ix1, js1 in enumerate(results['response']['categories']):\n",
    "    df_cat1 = df_cat1.append(\n",
    "        pd.Series([1,js1['name'],'','','',''],\n",
    "                  index=df_cat1.columns),ignore_index=True)\n",
    "    for ix2, js2 in enumerate(js1['categories']):\n",
    "        df_cat1 = df_cat1.append(\n",
    "            pd.Series([2,js1['name'],js2['name'],'','',''],\n",
    "                      index=df_cat1.columns),ignore_index=True)\n",
    "        for ix3, js3 in enumerate(js2['categories']):\n",
    "            df_cat1 = df_cat1.append(\n",
    "                pd.Series([3,js1['name'],js2['name'],js3['name'],'',''],\n",
    "                      index=df_cat1.columns),ignore_index=True)\n",
    "            for ix4, js4 in enumerate(js3['categories']):\n",
    "                df_cat1 = df_cat1.append(\n",
    "                    pd.Series([4,js1['name'],js2['name'],js3['name'],js4['name'],''],\n",
    "                      index=df_cat1.columns),ignore_index=True)\n",
    "                for ix5, js5 in enumerate(js4['categories']):\n",
    "                    df_cat1 = df_cat1.append(\n",
    "                        pd.Series([5,js1['name'],js2['name'],js3['name'],js4['name'],js5['name']],\n",
    "                          index=df_cat1.columns),ignore_index=True)"
   ]
  },
  {
   "cell_type": "code",
   "execution_count": null,
   "metadata": {},
   "outputs": [],
   "source": [
    "#Print level 5 category names\n",
    "df_cat1[df_cat1['Level']==5]"
   ]
  },
  {
   "cell_type": "code",
   "execution_count": null,
   "metadata": {},
   "outputs": [],
   "source": [
    "# Wrapper: array-based distance calculator to be used in the DBSCAN metrics calculation\n",
    "def dist_lat_long2(X1, X2):\n",
    "    # parameters as arrays\n",
    "    return dist_lat_long(X1[0], X1[1], X2[0], X2[1])"
   ]
  },
  {
   "cell_type": "raw",
   "metadata": {},
   "source": [
    "Density-Based Clustering\n",
    "the number of points within a specified radius.\n",
    "DBSCAN"
   ]
  },
  {
   "cell_type": "code",
   "execution_count": null,
   "metadata": {},
   "outputs": [],
   "source": [
    "from sklearn.cluster import DBSCAN"
   ]
  },
  {
   "cell_type": "code",
   "execution_count": null,
   "metadata": {},
   "outputs": [],
   "source": [
    "X = dfpo8[['latitude','longitude']].values\n",
    "X[0:5]"
   ]
  },
  {
   "cell_type": "code",
   "execution_count": null,
   "metadata": {},
   "outputs": [],
   "source": [
    "# Tried a couple of epsilons = distance (km) between two places. 15km gives us a good clustering result.\n",
    "# 10km, 12km, 20km are also OK.\n",
    "epsilon = 15.0 # a specified radius that if includes enough number of points within, we call it dense area  \n",
    "minimumSamples = 2 # determine the minimum number of data points we want in a neighborhood to define a cluster.\n",
    "db = DBSCAN(eps=epsilon, min_samples=minimumSamples,metric=dist_lat_long2).fit(X)\n",
    "labels = db.labels_\n",
    "labels"
   ]
  },
  {
   "cell_type": "code",
   "execution_count": null,
   "metadata": {},
   "outputs": [],
   "source": [
    "dfpo9 = dfpo8.copy()\n",
    "dfpo9.loc[:,'label'] = labels"
   ]
  },
  {
   "cell_type": "code",
   "execution_count": null,
   "metadata": {},
   "outputs": [],
   "source": [
    "labels.max()"
   ]
  },
  {
   "cell_type": "code",
   "execution_count": null,
   "metadata": {},
   "outputs": [],
   "source": [
    "dfpo9.head()"
   ]
  },
  {
   "cell_type": "code",
   "execution_count": null,
   "metadata": {},
   "outputs": [],
   "source": [
    "colors = ['black', 'gray', 'darkblue', 'blue', 'darkpurple', \n",
    "    'purple', 'darkgreen', 'green', 'orange', 'darkred', 'red',\n",
    "    'pink', 'lightgray', 'lightred', 'beige', 'cadetblue', 'white', 'lightblue', 'lightgreen', 'blue']"
   ]
  },
  {
   "cell_type": "code",
   "execution_count": null,
   "metadata": {},
   "outputs": [],
   "source": [
    "# Display 78 post office locations on the map\n",
    "epi_longitude,epi_latitude = dfpo8[['longitude','latitude']].mean().tolist()\n",
    "map5 = folium.Map(location=[epi_latitude, epi_longitude], zoom_start=7)\n",
    "for lat, lon, po_name, lbl in zip(dfpo9['latitude'],dfpo9['longitude'],dfpo9['po_name'],dfpo9['label']):\n",
    "    folium.CircleMarker(\n",
    "        [lat, lon],\n",
    "        radius=3,\n",
    "        popup=po_name,\n",
    "        color=colors[lbl+1],\n",
    "        fill=True,\n",
    "        fillcolor=colors[lbl+1],\n",
    "        fill_opacity=0.7).add_to(map5)\n",
    "map5"
   ]
  },
  {
   "cell_type": "raw",
   "metadata": {},
   "source": [
    "Let's see how density-based clustering produces different clusters with varying epsilon"
   ]
  },
  {
   "cell_type": "code",
   "execution_count": null,
   "metadata": {},
   "outputs": [],
   "source": [
    "for epsil in range(3,27,3):\n",
    "    db = DBSCAN(eps=epsil, min_samples=2, metric=dist_lat_long2).fit(X)\n",
    "    labels = db.labels_\n",
    "    print ('Epsilon={:3d}, Number of clusters={:3d}, Number of outliers={:3d}'.format(\n",
    "        epsil, labels.max()+1, len(labels[labels==-1])))\n",
    "    print (labels)"
   ]
  },
  {
   "cell_type": "code",
   "execution_count": null,
   "metadata": {},
   "outputs": [],
   "source": [
    "dfDBSCAN = pd.DataFrame(columns=['Epsilon','NumCluster','NumOutlier'],dtype=np.int8)\n",
    "for epsil in range(2,25):\n",
    "    db = DBSCAN(eps=epsil, min_samples=2, metric=dist_lat_long2).fit(X)\n",
    "    labels = db.labels_\n",
    "    #print (epsil, labels.max()+1, len(labels[labels==-1]))\n",
    "    dfDBSCAN = dfDBSCAN.append(pd.Series([epsil, labels.max()+1, len(labels[labels==-1])],\n",
    "                               index=dfDBSCAN.columns),ignore_index=True)"
   ]
  },
  {
   "cell_type": "code",
   "execution_count": null,
   "metadata": {},
   "outputs": [],
   "source": [
    "%matplotlib inline\n",
    "dfDBSCAN.plot.line(x='Epsilon',xlim=[0,25],ylim=[0,80])"
   ]
  },
  {
   "cell_type": "code",
   "execution_count": null,
   "metadata": {},
   "outputs": [],
   "source": []
  }
 ],
 "metadata": {
  "kernelspec": {
   "display_name": "Python",
   "language": "python",
   "name": "conda-env-python-py"
  },
  "language_info": {
   "codemirror_mode": {
    "name": "ipython",
    "version": 3
   },
   "file_extension": ".py",
   "mimetype": "text/x-python",
   "name": "python",
   "nbconvert_exporter": "python",
   "pygments_lexer": "ipython3",
   "version": "3.6.7"
  }
 },
 "nbformat": 4,
 "nbformat_minor": 4
}
