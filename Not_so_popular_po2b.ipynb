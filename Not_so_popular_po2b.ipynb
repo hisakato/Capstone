{
 "cells": [
  {
   "cell_type": "raw",
   "metadata": {},
   "source": [
    "Narrow down the candidate places to visit\n",
    " not-so-popular = might be interesting to me"
   ]
  },
  {
   "cell_type": "code",
   "execution_count": null,
   "metadata": {},
   "outputs": [],
   "source": [
    "import numpy as np\n",
    "import pandas as pd"
   ]
  },
  {
   "cell_type": "code",
   "execution_count": null,
   "metadata": {},
   "outputs": [],
   "source": [
    "# 99 Post Offices in Hokkaido\n",
    "dfpo2 = pd.read_csv('2019-01_post-office-Hokkaido1e.csv')\n",
    "dfpo2.head()"
   ]
  },
  {
   "cell_type": "code",
   "execution_count": null,
   "metadata": {},
   "outputs": [],
   "source": [
    "# create a data frame with \"Sapporo\" in post office name\n",
    "dfpo3 = dfpo2[dfpo2['po_name'].apply(str.__contains__, str, ['Sapporo'])]\n",
    "dfpo3.head()"
   ]
  },
  {
   "cell_type": "code",
   "execution_count": null,
   "metadata": {},
   "outputs": [],
   "source": [
    "import operator"
   ]
  },
  {
   "cell_type": "code",
   "execution_count": null,
   "metadata": {},
   "outputs": [],
   "source": [
    "# create a data frame excluding those with \"Sapporo\" in post office name\n",
    "dfpo4 = dfpo2[\n",
    "    dfpo2['po_name'].apply(str.__contains__, str, ['Sapporo']).apply(operator.__not__)\n",
    "]\n",
    "dfpo4.head()"
   ]
  },
  {
   "cell_type": "code",
   "execution_count": null,
   "metadata": {},
   "outputs": [],
   "source": [
    "# then, excluding those with \"Otaru\"\n",
    "dfpo5 = dfpo4[\n",
    "    dfpo4['po_name'].apply(str.__contains__, str, ['Otaru']).apply(operator.__not__)\n",
    "]\n",
    "dfpo5.head()"
   ]
  },
  {
   "cell_type": "code",
   "execution_count": null,
   "metadata": {},
   "outputs": [],
   "source": [
    "# then, excluding those with \"Yoichi\"\n",
    "dfpo6 = dfpo5[\n",
    "    dfpo5['po_name'].apply(str.__contains__, str, ['Yoichi']).apply(operator.__not__)\n",
    "]\n",
    "dfpo6.head()"
   ]
  },
  {
   "cell_type": "code",
   "execution_count": null,
   "metadata": {},
   "outputs": [],
   "source": [
    "# then, excluding those with \"Muroran\"\n",
    "dfpo7 = dfpo6[\n",
    "    dfpo6['po_name'].apply(str.__contains__, str, ['Muroran']).apply(operator.__not__)\n",
    "]\n",
    "dfpo7.head()"
   ]
  },
  {
   "cell_type": "code",
   "execution_count": null,
   "metadata": {},
   "outputs": [],
   "source": [
    "# then, excluding those with \"Tomakomai\"\n",
    "dfpo8 = dfpo7[\n",
    "    dfpo7['po_name'].apply(str.__contains__, str, ['Tomakomai']).apply(operator.__not__)\n",
    "]\n",
    "dfpo8.head(15)"
   ]
  },
  {
   "cell_type": "code",
   "execution_count": null,
   "metadata": {},
   "outputs": [],
   "source": [
    "# Let's see the number of post offices left.\n",
    "dfpo8.shape[0]"
   ]
  },
  {
   "cell_type": "code",
   "execution_count": null,
   "metadata": {},
   "outputs": [],
   "source": []
  }
 ],
 "metadata": {
  "kernelspec": {
   "display_name": "Python 3",
   "language": "python",
   "name": "python3"
  },
  "language_info": {
   "codemirror_mode": {
    "name": "ipython",
    "version": 3
   },
   "file_extension": ".py",
   "mimetype": "text/x-python",
   "name": "python",
   "nbconvert_exporter": "python",
   "pygments_lexer": "ipython3",
   "version": "3.6.8"
  }
 },
 "nbformat": 4,
 "nbformat_minor": 2
}
