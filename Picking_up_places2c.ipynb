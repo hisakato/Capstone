{
 "cells": [
  {
   "cell_type": "raw",
   "metadata": {},
   "source": [
    "Picking up where to visit"
   ]
  },
  {
   "cell_type": "code",
   "execution_count": null,
   "metadata": {},
   "outputs": [],
   "source": [
    "import numpy as np\n",
    "import pandas as pd\n",
    "import operator\n",
    "\n",
    "#!conda install -c conda-forge folium=0.5.0 --yes # uncomment this line if you haven't completed the Foursquare API lab\n",
    "import folium # map rendering library\n",
    "\n",
    "#!conda install -c conda-forge geopy --yes # uncomment this line if you haven't completed the Foursquare API lab\n",
    "from geopy.geocoders import Nominatim # convert an address into latitude and longitude values"
   ]
  },
  {
   "cell_type": "code",
   "execution_count": null,
   "metadata": {},
   "outputs": [],
   "source": [
    "# Load 99 post office locations into a data frame, specifying data types and disabling zero suppress.\n",
    "dfpo2 = pd.read_csv('2019-01_post-office-Hokkaido1e.csv',\n",
    "    dtype={'po_code':str,'po_name':str,'longitude':np.float64,'latitude':np.float64})\n",
    "dfpo2.head()"
   ]
  },
  {
   "cell_type": "code",
   "execution_count": null,
   "metadata": {},
   "outputs": [],
   "source": [
    "# Create a data frame excluding major cities and popular places I already visited.\n",
    "dfpo4 = dfpo2[\n",
    "    dfpo2['po_name'].apply(str.__contains__, str, ['Sapporo']).apply(operator.__not__)\n",
    "]\n",
    "dfpo5 = dfpo4[\n",
    "    dfpo4['po_name'].apply(str.__contains__, str, ['Otaru']).apply(operator.__not__)\n",
    "]\n",
    "dfpo6 = dfpo5[\n",
    "    dfpo5['po_name'].apply(str.__contains__, str, ['Yoichi']).apply(operator.__not__)\n",
    "]\n",
    "dfpo7 = dfpo6[\n",
    "    dfpo6['po_name'].apply(str.__contains__, str, ['Muroran']).apply(operator.__not__)\n",
    "]\n",
    "dfpo8 = dfpo7[\n",
    "    dfpo7['po_name'].apply(str.__contains__, str, ['Tomakomai']).apply(operator.__not__)\n",
    "]\n",
    "dfpo8.head()"
   ]
  },
  {
   "cell_type": "code",
   "execution_count": null,
   "metadata": {},
   "outputs": [],
   "source": [
    "# Print 4 east-end locations.\n",
    "dfpo8.sort_values(['longitude'],ascending=False).head(4)"
   ]
  },
  {
   "cell_type": "code",
   "execution_count": null,
   "metadata": {},
   "outputs": [],
   "source": [
    "# Print 2 west-end locations.\n",
    "dfpo8.sort_values(['longitude']).head(2)"
   ]
  },
  {
   "cell_type": "code",
   "execution_count": null,
   "metadata": {},
   "outputs": [],
   "source": [
    "# Print 2 north-end locations.\n",
    "dfpo8.sort_values(['latitude'],ascending=False).head(2)"
   ]
  },
  {
   "cell_type": "code",
   "execution_count": null,
   "metadata": {},
   "outputs": [],
   "source": [
    "# Calculate the epicenter of new 78 locations and display a map\n",
    "longitude,latitude = dfpo8[['longitude','latitude']].mean().tolist()\n",
    "map3 = folium.Map(location=[latitude, longitude], zoom_start=7)\n",
    "\n",
    "# Display a map with circle markers (po_code)\n",
    "for lat, lon, po_name in zip(dfpo8['latitude'],dfpo8['longitude'],dfpo8['po_name']):\n",
    "    folium.CircleMarker(\n",
    "        [lat, lon],\n",
    "        radius=5,\n",
    "        popup=po_name,\n",
    "        color='yellow',\n",
    "        fill=True,\n",
    "        fill_color='blue',\n",
    "        fill_opacity=0.7).add_to(map3)\n",
    "map3"
   ]
  },
  {
   "cell_type": "raw",
   "metadata": {},
   "source": [
    "Click on a blue marker on the map, you get the corresponding post office names:\n",
    " - Western, inland places with interesting names: Nakoma, Konbu\n",
    " - Mid-south-east, inland places with interesting names: Niwan, Biratori"
   ]
  },
  {
   "cell_type": "code",
   "execution_count": null,
   "metadata": {},
   "outputs": [],
   "source": [
    "# Calculate distance from latitude and longitude\n",
    "from math import sin, cos, sqrt, atan2, radians\n",
    "\n",
    "# approximate radius of earth in km\n",
    "def dist_lat_long(latd1, lond1, latd2, lond2):\n",
    "    R = 6373.0\n",
    "    # convert to radian\n",
    "    latr1 = radians(latd1)\n",
    "    lonr1 = radians(lond1)\n",
    "    latr2 = radians(latd2)\n",
    "    lonr2 = radians(lond2)\n",
    "    dlonr = lonr2 - lonr1\n",
    "    dlatr = latr2 - latr1\n",
    "\n",
    "    a = sin(dlatr/2)**2 + cos(latr1) * cos(latr2) * sin(dlonr/2)**2\n",
    "    c = 2 * atan2(sqrt(a), sqrt(1 - a))\n",
    "\n",
    "    return R*c"
   ]
  },
  {
   "cell_type": "code",
   "execution_count": null,
   "metadata": {},
   "outputs": [],
   "source": [
    "# unit for latitude/longitude: degrees\n",
    "dest1 = 'Hidaka Meguro'\n",
    "origin1 = 'Erimo Misaki'\n",
    "lond1, latd1 = dfpo8[dfpo8['po_name']==dest1][['longitude','latitude']].get_values()[0].tolist()\n",
    "# print (lond1, latd1) \n",
    "lond2, latd2 = dfpo8[dfpo8['po_name']==origin1][['longitude','latitude']].get_values()[0].tolist()\n",
    "print(\"Distance from {} to {}: {:.1f} km\".format(\n",
    "    origin1, dest1, dist_lat_long(latd1, lond1, latd2, lond2)))"
   ]
  },
  {
   "cell_type": "code",
   "execution_count": null,
   "metadata": {},
   "outputs": [],
   "source": [
    "# Distanace from Major cities (those not in our data frame dfpo8)\n",
    "dest = 'Nakoma'\n",
    "lond2, latd2 = dfpo8[dfpo8['po_name']==dest][['longitude','latitude']].get_values()[0].tolist()\n",
    "# print (lond2, latd2)\n",
    "\n",
    "major_cities = ['Sapporo', 'Hakodate', 'Otaru', 'Muroran', 'Tomakomai', 'Asahikawa']\n",
    "\n",
    "for city in major_cities:\n",
    "    address = city + \", Japan\"\n",
    "    # print (address)\n",
    "    geolocator = Nominatim(user_agent=\"ny_explorer\")\n",
    "    location = geolocator.geocode(address)\n",
    "    latd1 = location.latitude\n",
    "    lond1 = location.longitude\n",
    "    # print (lond1, latd1)\n",
    "    print(\"Distance from {} to {}: {:.1f} km\".format(\n",
    "        city, dest, dist_lat_long(latd1, lond1, latd2, lond2)))\n",
    "    "
   ]
  },
  {
   "cell_type": "code",
   "execution_count": null,
   "metadata": {},
   "outputs": [],
   "source": []
  }
 ],
 "metadata": {
  "kernelspec": {
   "display_name": "Python 3",
   "language": "python",
   "name": "python3"
  },
  "language_info": {
   "codemirror_mode": {
    "name": "ipython",
    "version": 3
   },
   "file_extension": ".py",
   "mimetype": "text/x-python",
   "name": "python",
   "nbconvert_exporter": "python",
   "pygments_lexer": "ipython3",
   "version": "3.6.8"
  }
 },
 "nbformat": 4,
 "nbformat_minor": 2
}
