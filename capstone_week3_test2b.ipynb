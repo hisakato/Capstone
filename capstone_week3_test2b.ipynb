{
 "cells": [
  {
   "cell_type": "markdown",
   "metadata": {},
   "source": [
    "# Coursera Capstone Project\n",
    "## Week 3 Test 2: Segmenting and Clustering Neighborhoods in Toronto\n",
    "<p>Tried the geocoder module, but it didn't work well. Instead of using the geocoder module, I use Geospatial_Coordinates.csv file to create the desired output.</p>"
   ]
  },
  {
   "cell_type": "code",
   "execution_count": null,
   "metadata": {},
   "outputs": [],
   "source": [
    "#Download files from the Internet. This script processes these local files.\n",
    "#!wget -q -O 'canada_data.html' https://en.wikipedia.org/wiki/List_of_postal_codes_of_Canada:_M\n",
    "#!wget -q -O 'Geospatial_Coordinates.csv' http://cocl.us/Geospatial_data"
   ]
  },
  {
   "cell_type": "code",
   "execution_count": null,
   "metadata": {},
   "outputs": [],
   "source": [
    "#Scrape Wikipedia to retrieve Toronto's postal code and related info.\n",
    "import numpy as np\n",
    "import pandas as pd\n",
    "from bs4 import BeautifulSoup\n",
    "with open('canada_data.html') as html_doc:\n",
    "    soup = BeautifulSoup(html_doc)\n",
    "column_names = ['PostalCode', 'Borough', 'Neighborhood']\n",
    "nhdf1 = pd.DataFrame(columns=column_names) # initialize a neighborhoods data frame\n",
    "tbody = soup.tbody\n",
    "for tr in tbody.find_all('tr'):\n",
    "    nhr = list() # initialize a neighborhood record\n",
    "    for td in tr.find_all('td'):\n",
    "        nhr.append(td.text.strip('\\n'))\n",
    "    #print (nhr)\n",
    "    if (len(nhr)>1 and nhr[1] != \"Not assigned\"):\n",
    "        nhdf1 = nhdf1.append({'PostalCode': nhr[0], 'Borough': nhr[1],\n",
    "                'Neighborhood': nhr[2]}, ignore_index=True)\n",
    "nhgrp = nhdf1.groupby(['PostalCode','Borough'])['Neighborhood'].apply(list) # group nhr's to a Series\n",
    "nhdf2 = nhgrp.reset_index() # convert the Series into a DataFrame"
   ]
  },
  {
   "cell_type": "code",
   "execution_count": null,
   "metadata": {},
   "outputs": [],
   "source": [
    "#!conda install -c conda-forge geocoder --yes # uncomment this line if it's not installed"
   ]
  },
  {
   "cell_type": "code",
   "execution_count": null,
   "metadata": {},
   "outputs": [],
   "source": [
    "#import geocoder"
   ]
  },
  {
   "cell_type": "code",
   "execution_count": null,
   "metadata": {},
   "outputs": [],
   "source": [
    "#Tried calling the geocoder several times. But it didn't work well.\n",
    "#g = geocoder.google('Mountain View, CA')\n",
    "#print (g.latlng)"
   ]
  },
  {
   "cell_type": "code",
   "execution_count": null,
   "metadata": {},
   "outputs": [],
   "source": [
    "# Tried geocoder for Canada as in the test description --- Didn't return longitude/latitude\n",
    "#postal_code = \"M9V\"\n",
    "# initialize your variable to None\n",
    "#lat_lng_coords = None\n",
    "# loop until you get the coordinates or reaches a maximum count\n",
    "#cnt = 0 # loop counter\n",
    "#while(lat_lng_coords is None and cnt<10):\n",
    "#    g = geocoder.google('{}, Toronto, Ontario'.format(postal_code))\n",
    "#    ++cnt\n",
    "#    lat_lng_coords = g.latlng\n",
    "    \n",
    "#if (lat_lng_coords in None):\n",
    "#    print (\"geocoder unsucessful.\")\n",
    "#else:\n",
    "#    latitude = lat_lng_coords[0]\n",
    "#    longitude = lat_lng_coords[1]\n",
    "#    print('The geograpical coordinate of M9V are {}, {}.'.format(latitude, longitude))"
   ]
  },
  {
   "cell_type": "code",
   "execution_count": null,
   "metadata": {},
   "outputs": [],
   "source": [
    "nhdf2"
   ]
  },
  {
   "cell_type": "code",
   "execution_count": null,
   "metadata": {},
   "outputs": [],
   "source": [
    "gcdf = pd.read_csv(\"Geospatial_Coordinates.csv\")"
   ]
  },
  {
   "cell_type": "code",
   "execution_count": null,
   "metadata": {},
   "outputs": [],
   "source": [
    "gcdf.head()"
   ]
  },
  {
   "cell_type": "code",
   "execution_count": null,
   "metadata": {},
   "outputs": [],
   "source": [
    "gcdf.rename(columns={\"Postal Code\": \"PostalCode\"},inplace=True) # change the column name to match other df"
   ]
  },
  {
   "cell_type": "code",
   "execution_count": null,
   "metadata": {},
   "outputs": [],
   "source": [
    "gcdf.head()"
   ]
  },
  {
   "cell_type": "code",
   "execution_count": null,
   "metadata": {},
   "outputs": [],
   "source": [
    "nhdf3 = pd.merge(nhdf2, gcdf, on='PostalCode')"
   ]
  },
  {
   "cell_type": "code",
   "execution_count": null,
   "metadata": {},
   "outputs": [],
   "source": [
    "nhdf3"
   ]
  },
  {
   "cell_type": "code",
   "execution_count": null,
   "metadata": {},
   "outputs": [],
   "source": []
  }
 ],
 "metadata": {
  "kernelspec": {
   "display_name": "Python 3",
   "language": "python",
   "name": "python3"
  },
  "language_info": {
   "codemirror_mode": {
    "name": "ipython",
    "version": 3
   },
   "file_extension": ".py",
   "mimetype": "text/x-python",
   "name": "python",
   "nbconvert_exporter": "python",
   "pygments_lexer": "ipython3",
   "version": "3.6.8"
  }
 },
 "nbformat": 4,
 "nbformat_minor": 2
}
